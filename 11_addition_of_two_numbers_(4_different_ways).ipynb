{
  "nbformat": 4,
  "nbformat_minor": 0,
  "metadata": {
    "colab": {
      "name": "11. addition of two numbers (4 different ways).ipynb",
      "provenance": [],
      "authorship_tag": "ABX9TyNjEH0jkT89ncpuvcHASnH3",
      "include_colab_link": true
    },
    "kernelspec": {
      "name": "python3",
      "display_name": "Python 3"
    },
    "language_info": {
      "name": "python"
    }
  },
  "cells": [
    {
      "cell_type": "markdown",
      "metadata": {
        "id": "view-in-github",
        "colab_type": "text"
      },
      "source": [
        "<a href=\"https://colab.research.google.com/github/Arsal96/daily-python/blob/main/11_addition_of_two_numbers_(4_different_ways).ipynb\" target=\"_parent\"><img src=\"https://colab.research.google.com/assets/colab-badge.svg\" alt=\"Open In Colab\"/></a>"
      ]
    },
    {
      "cell_type": "markdown",
      "metadata": {
        "id": "zqVCEPTG2Vyu"
      },
      "source": [
        "1) Simply take input from the user and typecast to an integer at the same time after that performing addition operation on the both number."
      ]
    },
    {
      "cell_type": "code",
      "metadata": {
        "colab": {
          "base_uri": "https://localhost:8080/"
        },
        "id": "I28Jbzj12U1e",
        "outputId": "f57e57c6-40b3-498b-b644-7b330ece1713"
      },
      "source": [
        "if __name__=='__main__':\n",
        "\n",
        "\n",
        "  a = int(input('Enter first number: '))\n",
        "  b = int(input('Enter second number: '))\n",
        "\n",
        "  print('sum = ', a+b)"
      ],
      "execution_count": 1,
      "outputs": [
        {
          "output_type": "stream",
          "text": [
            "Enter first number: 3\n",
            "Enter second number: 6\n",
            "sum =  9\n"
          ],
          "name": "stdout"
        }
      ]
    },
    {
      "cell_type": "markdown",
      "metadata": {
        "id": "_tpHYp423FST"
      },
      "source": [
        "2) Using a user-defined function for doing the sum of two numbers.\n",
        "\n"
      ]
    },
    {
      "cell_type": "code",
      "metadata": {
        "colab": {
          "base_uri": "https://localhost:8080/"
        },
        "id": "ojynTBwo2nli",
        "outputId": "1e436f7d-d149-413a-ca63-f0a82edde664"
      },
      "source": [
        "def calc_sum(a,b):\n",
        " \n",
        "  return a+b\n",
        "\n",
        "\n",
        "if __name__=='__main__':\n",
        "\n",
        "  a = int(input('Enter first number: '))\n",
        "  b = int(input('Enter second numer: '))\n",
        "  print('Sum of two numbers is: ', calc_sum(a,b))"
      ],
      "execution_count": 2,
      "outputs": [
        {
          "output_type": "stream",
          "text": [
            "Enter first number: 2\n",
            "Enter second numer: 4\n",
            "Sum of two numbers is:  6\n"
          ],
          "name": "stdout"
        }
      ]
    },
    {
      "cell_type": "markdown",
      "metadata": {
        "id": "pYmuPy423wl3"
      },
      "source": [
        "3) We are taking the input from user in one line after that typecast into an integer and stored them in the list then use sum() inbuilt function which returns the sum of elements of the list.\n"
      ]
    },
    {
      "cell_type": "code",
      "metadata": {
        "colab": {
          "base_uri": "https://localhost:8080/"
        },
        "id": "Id1fl74k3dxV",
        "outputId": "547c58aa-2e83-4741-aa31-66140257b7d6"
      },
      "source": [
        "if __name__=='__main__':\n",
        "  a = list(map(int,input().split()))\n",
        "\n",
        "  print('sum of two numbers: ', sum(a))"
      ],
      "execution_count": 3,
      "outputs": [
        {
          "output_type": "stream",
          "text": [
            "4 6 2\n",
            "sum of two numbers:  12\n"
          ],
          "name": "stdout"
        }
      ]
    },
    {
      "cell_type": "markdown",
      "metadata": {
        "id": "Xa0SG5TC_h_B"
      },
      "source": [
        "4) We are taking the input from user in one line and store them in two different variables then typecast both into an integer at the time of addition operation."
      ]
    },
    {
      "cell_type": "code",
      "metadata": {
        "colab": {
          "base_uri": "https://localhost:8080/"
        },
        "id": "4N0ZNA3n_eBh",
        "outputId": "f93dbec0-302a-4ad4-e2e1-a64d06673830"
      },
      "source": [
        "if __name__=='__main__':\n",
        "  a,b = input().split()\n",
        "  sum = int(a) + int(b)\n",
        "  print('sum of two numbers:', sum)"
      ],
      "execution_count": 4,
      "outputs": [
        {
          "output_type": "stream",
          "text": [
            "3 5\n",
            "sum of two numbers: 8\n"
          ],
          "name": "stdout"
        }
      ]
    }
  ]
}