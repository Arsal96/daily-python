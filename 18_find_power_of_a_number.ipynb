{
  "nbformat": 4,
  "nbformat_minor": 0,
  "metadata": {
    "colab": {
      "name": "18. find power of a number.ipynb",
      "provenance": [],
      "authorship_tag": "ABX9TyORJ9Y7IdGNtPCtPD/wrIxn",
      "include_colab_link": true
    },
    "kernelspec": {
      "name": "python3",
      "display_name": "Python 3"
    },
    "language_info": {
      "name": "python"
    }
  },
  "cells": [
    {
      "cell_type": "markdown",
      "metadata": {
        "id": "view-in-github",
        "colab_type": "text"
      },
      "source": [
        "<a href=\"https://colab.research.google.com/github/Arsal96/daily-python/blob/main/18_find_power_of_a_number.ipynb\" target=\"_parent\"><img src=\"https://colab.research.google.com/assets/colab-badge.svg\" alt=\"Open In Colab\"/></a>"
      ]
    },
    {
      "cell_type": "markdown",
      "metadata": {
        "id": "hEF95xZ_KslU"
      },
      "source": [
        "calculating power using exponential oprator (**)\n"
      ]
    },
    {
      "cell_type": "code",
      "metadata": {
        "colab": {
          "base_uri": "https://localhost:8080/"
        },
        "id": "CqAMDEa4Khqi",
        "outputId": "bfc3b6b2-2237-4003-d983-b1864cb0abb2"
      },
      "source": [
        "a = 10\n",
        "b = 3\n",
        "\n",
        "print(a,' to the power of ', b, 'is: ', a**b)"
      ],
      "execution_count": 2,
      "outputs": [
        {
          "output_type": "stream",
          "text": [
            "10  to the power of  3 is:  1000\n"
          ],
          "name": "stdout"
        }
      ]
    },
    {
      "cell_type": "markdown",
      "metadata": {
        "id": "DOPGtD0qLO1g"
      },
      "source": [
        "### calculate the value of Nth power of a number without using power function.\n",
        "\n",
        "The idea is using loop. We will be multiplying a number (initially with value 1) by the number input by user (of which we have to find the value of Nth power) for N times. For multiplying it by N times, we need to run our loop N times. Since we know the number of times loop will execute, so we are using for loop."
      ]
    },
    {
      "cell_type": "code",
      "metadata": {
        "colab": {
          "base_uri": "https://localhost:8080/"
        },
        "id": "HXgwHBZlLCyz",
        "outputId": "439723af-1ca6-45cd-d8ac-b9cc5969b26e"
      },
      "source": [
        "num = int(input(\"Enter the number of which you have to find power: \"))\n",
        "pw = int(input(\"Enter the power: \"))\n",
        "\n",
        "kj = 1\n",
        "for n in range(pw):\n",
        "    kj = kj*num\n",
        "\n",
        "print(kj)\n"
      ],
      "execution_count": 3,
      "outputs": [
        {
          "output_type": "stream",
          "text": [
            "Enter the number of which you have to find power: 5\n",
            "Enter the power: 4\n",
            "625\n"
          ],
          "name": "stdout"
        }
      ]
    },
    {
      "cell_type": "code",
      "metadata": {
        "id": "8HubBLcyNuOg"
      },
      "source": [
        ""
      ],
      "execution_count": null,
      "outputs": []
    }
  ]
}