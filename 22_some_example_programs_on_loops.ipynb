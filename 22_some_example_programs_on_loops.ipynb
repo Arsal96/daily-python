{
  "nbformat": 4,
  "nbformat_minor": 0,
  "metadata": {
    "colab": {
      "name": "22. some example programs on loops.ipynb",
      "provenance": [],
      "authorship_tag": "ABX9TyOVqXQ0ch1QSfuXext8+jZK",
      "include_colab_link": true
    },
    "kernelspec": {
      "name": "python3",
      "display_name": "Python 3"
    },
    "language_info": {
      "name": "python"
    }
  },
  "cells": [
    {
      "cell_type": "markdown",
      "metadata": {
        "id": "view-in-github",
        "colab_type": "text"
      },
      "source": [
        "<a href=\"https://colab.research.google.com/github/Arsal96/daily-python/blob/main/22_some_example_programs_on_loops.ipynb\" target=\"_parent\"><img src=\"https://colab.research.google.com/assets/colab-badge.svg\" alt=\"Open In Colab\"/></a>"
      ]
    },
    {
      "cell_type": "markdown",
      "metadata": {
        "id": "KoGZa3VrIP-a"
      },
      "source": [
        "### 1. Print all the no. between 1 to n\n"
      ]
    },
    {
      "cell_type": "code",
      "metadata": {
        "colab": {
          "base_uri": "https://localhost:8080/"
        },
        "id": "7eyi5crNH1td",
        "outputId": "6792e91b-9b97-4214-db2e-f6a318b0d12f"
      },
      "source": [
        "number = int(input('Enter upper limit: '))\n",
        "for i in range(1,number+1):\n",
        "  print(i)\n"
      ],
      "execution_count": 1,
      "outputs": [
        {
          "output_type": "stream",
          "text": [
            "Enter upper limit: 5\n",
            "1\n",
            "2\n",
            "3\n",
            "4\n"
          ],
          "name": "stdout"
        }
      ]
    },
    {
      "cell_type": "markdown",
      "metadata": {
        "id": "--HzrmqTIqDZ"
      },
      "source": [
        "### 2. Print table of number"
      ]
    },
    {
      "cell_type": "code",
      "metadata": {
        "colab": {
          "base_uri": "https://localhost:8080/"
        },
        "id": "AKgDfwNlIi1_",
        "outputId": "eba03c88-312f-4486-8cbc-5c65023da415"
      },
      "source": [
        "numer = int(input('Enter N: '))\n",
        "for i in range(1,11):\n",
        "  print(number,' x ',i, ' = ', i*number)\n"
      ],
      "execution_count": 2,
      "outputs": [
        {
          "output_type": "stream",
          "text": [
            "Enter N: 5\n",
            "5  x  1  =  5\n",
            "5  x  2  =  10\n",
            "5  x  3  =  15\n",
            "5  x  4  =  20\n",
            "5  x  5  =  25\n",
            "5  x  6  =  30\n",
            "5  x  7  =  35\n",
            "5  x  8  =  40\n",
            "5  x  9  =  45\n",
            "5  x  10  =  50\n"
          ],
          "name": "stdout"
        }
      ]
    },
    {
      "cell_type": "markdown",
      "metadata": {
        "id": "z6IS2evoJQ_d"
      },
      "source": [
        "### 3. Print sum of n number"
      ]
    },
    {
      "cell_type": "code",
      "metadata": {
        "colab": {
          "base_uri": "https://localhost:8080/"
        },
        "id": "YII0ORXmJKre",
        "outputId": "bfb44c24-96a8-4563-9b48-b18b613ad141"
      },
      "source": [
        "number = int(input('Enter number '))\n",
        "sum = 0\n",
        "for i in range(1,number+1):\n",
        "  sum = sum + i\n",
        "\n",
        "print('Sum = ', sum)"
      ],
      "execution_count": 3,
      "outputs": [
        {
          "output_type": "stream",
          "text": [
            "Enter number10\n",
            "Sum =  55\n"
          ],
          "name": "stdout"
        }
      ]
    },
    {
      "cell_type": "markdown",
      "metadata": {
        "id": "-pL7QMNUJz40"
      },
      "source": [
        "### 4. Print factorial of n"
      ]
    },
    {
      "cell_type": "code",
      "metadata": {
        "colab": {
          "base_uri": "https://localhost:8080/"
        },
        "id": "Ol9R7649JuRH",
        "outputId": "e4df2f06-7e0d-49f5-e260-cd861884e4c5"
      },
      "source": [
        "number = int(input('Enter number '))\n",
        "\n",
        "\n",
        "def calFactorial(num):\n",
        "  if num==0:\n",
        "    return 1\n",
        "  else:\n",
        "    return num*calFactorial(num-1)\n",
        "\n",
        "\n",
        "print(calFactorial(number))\n",
        "\n"
      ],
      "execution_count": 14,
      "outputs": [
        {
          "output_type": "stream",
          "text": [
            "Enter number 4\n",
            "24\n"
          ],
          "name": "stdout"
        }
      ]
    },
    {
      "cell_type": "code",
      "metadata": {
        "colab": {
          "base_uri": "https://localhost:8080/"
        },
        "id": "OCS0A0_TKrOw",
        "outputId": "becd4e91-d30d-4a4b-c7d4-d5e970b76b96"
      },
      "source": [
        "# --------------  using loop -------------------\n",
        "\n",
        "n=int(input(\"Enter N: \"))\n",
        "f=1\n",
        "for i in range(n,0,-1):\n",
        "    f=f*i\n",
        "print(\"Factorial = \",f)\n"
      ],
      "execution_count": 15,
      "outputs": [
        {
          "output_type": "stream",
          "text": [
            "Enter N: 4\n",
            "Factorial =  24\n"
          ],
          "name": "stdout"
        }
      ]
    },
    {
      "cell_type": "markdown",
      "metadata": {
        "id": "ozp3bnW2MeEZ"
      },
      "source": [
        "### 5. Check prime number"
      ]
    },
    {
      "cell_type": "code",
      "metadata": {
        "colab": {
          "base_uri": "https://localhost:8080/"
        },
        "id": "Cr92BidPMage",
        "outputId": "cdc06069-71f8-4f1e-ef7e-11e6e948a069"
      },
      "source": [
        "number = int(input('Enter number '))\n",
        "\n",
        "for i in range(2,number):\n",
        "  if number%i==0:\n",
        "    print('Not prime number')\n",
        "    break\n",
        "\n",
        "else:\n",
        "  print('Prime')\n",
        "   "
      ],
      "execution_count": 28,
      "outputs": [
        {
          "output_type": "stream",
          "text": [
            "Enter number 9\n",
            "Not prime number\n"
          ],
          "name": "stdout"
        }
      ]
    },
    {
      "cell_type": "markdown",
      "metadata": {
        "id": "RIkwuRBHQALk"
      },
      "source": [
        "### 6. Check palindrome number"
      ]
    },
    {
      "cell_type": "code",
      "metadata": {
        "colab": {
          "base_uri": "https://localhost:8080/"
        },
        "id": "YSoEbe8jNZXP",
        "outputId": "00e45a09-c365-4c9d-af60-b7184529c0d2"
      },
      "source": [
        "number = int(input('Enter number '))\n",
        "m=number\n",
        "rev=0\n",
        "while(number>0):\n",
        "    dig=number%10\n",
        "    rev=rev*10+dig\n",
        "    number=number//10\n",
        "if rev==m:\n",
        "    print(m,\"is Palindrome\")\n",
        "else:\n",
        "    print(m,\"is not Palindrome\")\n"
      ],
      "execution_count": 31,
      "outputs": [
        {
          "output_type": "stream",
          "text": [
            "Enter number 11211\n",
            "11211 is Palindrome\n"
          ],
          "name": "stdout"
        }
      ]
    },
    {
      "cell_type": "code",
      "metadata": {
        "id": "hsCRjbWbQKyG"
      },
      "source": [
        ""
      ],
      "execution_count": null,
      "outputs": []
    }
  ]
}