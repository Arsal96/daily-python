{
  "nbformat": 4,
  "nbformat_minor": 0,
  "metadata": {
    "colab": {
      "name": "23. print Odd and Even numbers from the list of integers.ipynb",
      "provenance": [],
      "authorship_tag": "ABX9TyMegyq7vcCwd2SEK43LKHa0",
      "include_colab_link": true
    },
    "kernelspec": {
      "name": "python3",
      "display_name": "Python 3"
    },
    "language_info": {
      "name": "python"
    }
  },
  "cells": [
    {
      "cell_type": "markdown",
      "metadata": {
        "id": "view-in-github",
        "colab_type": "text"
      },
      "source": [
        "<a href=\"https://colab.research.google.com/github/Arsal96/daily-python/blob/main/23_print_Odd_and_Even_numbers_from_the_list_of_integers.ipynb\" target=\"_parent\"><img src=\"https://colab.research.google.com/assets/colab-badge.svg\" alt=\"Open In Colab\"/></a>"
      ]
    },
    {
      "cell_type": "code",
      "metadata": {
        "colab": {
          "base_uri": "https://localhost:8080/"
        },
        "id": "vrHTRpkd3qJN",
        "outputId": "ba0e6b20-261b-4219-a205-368155c61a71"
      },
      "source": [
        "n = int(input())\n",
        "l = list(map(int,input().strip().split(' ')))\n",
        "\n",
        "odd = []\n",
        "even = []\n",
        "\n",
        "for i in l:\n",
        "  if i%2==0:\n",
        "    even.append(i)\n",
        "  else:\n",
        "    odd.append(i)\n",
        "\n",
        "print('even: ', even)\n",
        "print('Odd: ', odd)"
      ],
      "execution_count": 3,
      "outputs": [
        {
          "output_type": "stream",
          "text": [
            "4\n",
            "22 998 3\n",
            "even:  [22, 998]\n",
            "Odd:  [3]\n"
          ],
          "name": "stdout"
        }
      ]
    },
    {
      "cell_type": "code",
      "metadata": {
        "id": "rdy-HpmD4LlV"
      },
      "source": [
        ""
      ],
      "execution_count": null,
      "outputs": []
    }
  ]
}