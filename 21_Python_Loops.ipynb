{
  "nbformat": 4,
  "nbformat_minor": 0,
  "metadata": {
    "colab": {
      "name": "21. Python Loops.ipynb",
      "provenance": [],
      "authorship_tag": "ABX9TyPOtcFnLXqKo09qEvO41QkW",
      "include_colab_link": true
    },
    "kernelspec": {
      "name": "python3",
      "display_name": "Python 3"
    },
    "language_info": {
      "name": "python"
    }
  },
  "cells": [
    {
      "cell_type": "markdown",
      "metadata": {
        "id": "view-in-github",
        "colab_type": "text"
      },
      "source": [
        "<a href=\"https://colab.research.google.com/github/Arsal96/daily-python/blob/main/21_Python_Loops.ipynb\" target=\"_parent\"><img src=\"https://colab.research.google.com/assets/colab-badge.svg\" alt=\"Open In Colab\"/></a>"
      ]
    },
    {
      "cell_type": "code",
      "metadata": {
        "colab": {
          "base_uri": "https://localhost:8080/"
        },
        "id": "CiZ0JxdyEb4U",
        "outputId": "c24e0af2-266d-4227-bfe9-ed020a6c6411"
      },
      "source": [
        "#Collection Controlled Loop\n",
        "fruits=[\"apple\",\"banana\",\"guava\",\"grapes\",\"oranges\"]\n",
        "for item in fruits:\n",
        "    print(item)"
      ],
      "execution_count": 1,
      "outputs": [
        {
          "output_type": "stream",
          "text": [
            "apple\n",
            "banana\n",
            "guava\n",
            "grapes\n",
            "oranges\n"
          ],
          "name": "stdout"
        }
      ]
    },
    {
      "cell_type": "code",
      "metadata": {
        "colab": {
          "base_uri": "https://localhost:8080/"
        },
        "id": "TcEujvejE5ub",
        "outputId": "08da1c83-8984-4c08-da35-3f03f92b5d36"
      },
      "source": [
        "a = 1\n",
        "\n",
        "while a<10:\n",
        "  print(a)\n",
        "  a = a+1"
      ],
      "execution_count": 5,
      "outputs": [
        {
          "output_type": "stream",
          "text": [
            "1\n",
            "2\n",
            "3\n",
            "4\n",
            "5\n",
            "6\n",
            "7\n",
            "8\n",
            "9\n"
          ],
          "name": "stdout"
        }
      ]
    },
    {
      "cell_type": "code",
      "metadata": {
        "colab": {
          "base_uri": "https://localhost:8080/"
        },
        "id": "oLvNI4MHFkUP",
        "outputId": "0b1490f9-f5cb-4d87-a90e-6f2bd405da87"
      },
      "source": [
        "#Range Controlled Loop\n",
        "\n",
        "#range(end)  start=0,step=+1\n",
        "for i in range(10):\n",
        "    print(i,end=\" \")\n",
        "\n",
        "print(\"\\n\")\n",
        "\n",
        "#range(start,end)  step=+1\n",
        "for i in range(1,11):\n",
        "    print(i,end=\" \")\n",
        "\n",
        "print(\"\\n\")\n",
        "\n",
        "#range(start,end,step)\n",
        "for i in range(1,11,3):\n",
        "    print(i,end=\" \")\n",
        "print()\n",
        "for i in range(10,0,-1):\n",
        "    print(i,end=\" \")\n"
      ],
      "execution_count": 6,
      "outputs": [
        {
          "output_type": "stream",
          "text": [
            "0 1 2 3 4 5 6 7 8 9 \n",
            "\n",
            "1 2 3 4 5 6 7 8 9 10 \n",
            "\n",
            "1 4 7 10 \n",
            "10 9 8 7 6 5 4 3 2 1 "
          ],
          "name": "stdout"
        }
      ]
    },
    {
      "cell_type": "code",
      "metadata": {
        "id": "qbfgSJ52F_28"
      },
      "source": [
        ""
      ],
      "execution_count": null,
      "outputs": []
    }
  ]
}