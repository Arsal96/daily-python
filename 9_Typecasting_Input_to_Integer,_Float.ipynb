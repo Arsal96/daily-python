{
  "nbformat": 4,
  "nbformat_minor": 0,
  "metadata": {
    "colab": {
      "name": "9. Typecasting Input to Integer, Float.ipynb",
      "provenance": [],
      "authorship_tag": "ABX9TyMD6JDAE1Tn+s/424wrV+hB",
      "include_colab_link": true
    },
    "kernelspec": {
      "name": "python3",
      "display_name": "Python 3"
    },
    "language_info": {
      "name": "python"
    }
  },
  "cells": [
    {
      "cell_type": "markdown",
      "metadata": {
        "id": "view-in-github",
        "colab_type": "text"
      },
      "source": [
        "<a href=\"https://colab.research.google.com/github/Arsal96/daily-python/blob/main/9_Typecasting_Input_to_Integer%2C_Float.ipynb\" target=\"_parent\"><img src=\"https://colab.research.google.com/assets/colab-badge.svg\" alt=\"Open In Colab\"/></a>"
      ]
    },
    {
      "cell_type": "markdown",
      "metadata": {
        "id": "WiONBPsYuXd8"
      },
      "source": [
        "## Typecasting input to integer\n"
      ]
    },
    {
      "cell_type": "code",
      "metadata": {
        "colab": {
          "base_uri": "https://localhost:8080/"
        },
        "id": "JaogZHDyt4KI",
        "outputId": "31c9144f-4025-4cca-92e1-d42f487d3bb5"
      },
      "source": [
        "num = int(input('input any value: '))\n",
        "print(type(num))\n",
        "\n"
      ],
      "execution_count": 1,
      "outputs": [
        {
          "output_type": "stream",
          "text": [
            "input any value: 779\n",
            "<class 'int'>\n"
          ],
          "name": "stdout"
        }
      ]
    },
    {
      "cell_type": "markdown",
      "metadata": {
        "id": "119RI2ejwMy4"
      },
      "source": [
        "## Typecasting Input to float\n"
      ]
    },
    {
      "cell_type": "code",
      "metadata": {
        "colab": {
          "base_uri": "https://localhost:8080/"
        },
        "id": "MExC8IceuqFL",
        "outputId": "dc7ff9d3-46b5-4e61-c675-088751c9ed39"
      },
      "source": [
        "num = float(input('input any value: '))\n",
        "print(type(num))\n"
      ],
      "execution_count": 2,
      "outputs": [
        {
          "output_type": "stream",
          "text": [
            "input any value: 798.99\n",
            "<class 'float'>\n"
          ],
          "name": "stdout"
        }
      ]
    }
  ]
}