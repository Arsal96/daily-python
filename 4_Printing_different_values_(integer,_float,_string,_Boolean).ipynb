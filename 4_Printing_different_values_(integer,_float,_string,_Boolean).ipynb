{
  "nbformat": 4,
  "nbformat_minor": 0,
  "metadata": {
    "colab": {
      "name": "4. Printing different values (integer, float, string, Boolean).ipynb",
      "provenance": [],
      "authorship_tag": "ABX9TyMf5gIqA6JLj0IEo+P5p3hc",
      "include_colab_link": true
    },
    "kernelspec": {
      "name": "python3",
      "display_name": "Python 3"
    },
    "language_info": {
      "name": "python"
    }
  },
  "cells": [
    {
      "cell_type": "markdown",
      "metadata": {
        "id": "view-in-github",
        "colab_type": "text"
      },
      "source": [
        "<a href=\"https://colab.research.google.com/github/Arsal96/daily-python/blob/main/4_Printing_different_values_(integer%2C_float%2C_string%2C_Boolean).ipynb\" target=\"_parent\"><img src=\"https://colab.research.google.com/assets/colab-badge.svg\" alt=\"Open In Colab\"/></a>"
      ]
    },
    {
      "cell_type": "code",
      "metadata": {
        "colab": {
          "base_uri": "https://localhost:8080/"
        },
        "id": "j1KkETbq0wof",
        "outputId": "0126a05f-b238-431b-a66c-1de2230d7ff6"
      },
      "source": [
        "print(12)\n",
        "print(12.5)\n",
        "print('Hello')\n",
        "print(True)"
      ],
      "execution_count": null,
      "outputs": [
        {
          "output_type": "stream",
          "text": [
            "12\n",
            "12.5\n",
            "Hello\n",
            "True\n"
          ],
          "name": "stdout"
        }
      ]
    },
    {
      "cell_type": "markdown",
      "metadata": {
        "id": "PLT-cZBq1sTa"
      },
      "source": [
        "## Arithmetic operations inside the print() on values\n",
        "\n"
      ]
    },
    {
      "cell_type": "code",
      "metadata": {
        "colab": {
          "base_uri": "https://localhost:8080/"
        },
        "id": "L_eEdrJb1qb9",
        "outputId": "a2c2fc4f-d567-4cf4-dec5-76d35ed4e6a6"
      },
      "source": [
        "print(12+10)\n",
        "print(12.5+7.5)\n",
        "print('Hello'+'World')\n",
        "print(True+False)"
      ],
      "execution_count": null,
      "outputs": [
        {
          "output_type": "stream",
          "text": [
            "22\n",
            "20.0\n",
            "HelloWorld\n",
            "1\n"
          ],
          "name": "stdout"
        }
      ]
    },
    {
      "cell_type": "markdown",
      "metadata": {
        "id": "HrF9OQzZ2Jbb"
      },
      "source": [
        "## Printing different types of variables\n",
        "\n"
      ]
    },
    {
      "cell_type": "code",
      "metadata": {
        "colab": {
          "base_uri": "https://localhost:8080/"
        },
        "id": "aDNKBAZ713-z",
        "outputId": "4bfeea84-aeed-41f5-b461-29e9beb0fcf1"
      },
      "source": [
        "a = 20\n",
        "b = 50.4\n",
        "c = 'I love Python'\n",
        "d = True\n",
        "\n",
        "print(a,b,c,d, sep='\\n')"
      ],
      "execution_count": null,
      "outputs": [
        {
          "output_type": "stream",
          "text": [
            "20\n",
            "50.4\n",
            "I love Python\n",
            "True\n"
          ],
          "name": "stdout"
        }
      ]
    },
    {
      "cell_type": "markdown",
      "metadata": {
        "id": "6mlGoKdz2fTP"
      },
      "source": [
        "## Printing different types of variables along with the messages\n",
        "\n"
      ]
    },
    {
      "cell_type": "code",
      "metadata": {
        "colab": {
          "base_uri": "https://localhost:8080/"
        },
        "id": "_yY4poMa1-WQ",
        "outputId": "79b8122b-6128-4a68-fa0c-66492d02acdb"
      },
      "source": [
        "# variable with integer value\n",
        "a=12\n",
        "# variable with float value\n",
        "b=12.56\n",
        "# variable with string value\n",
        "c=\"Hello\"\n",
        "# variable with Boolean value\n",
        "d=True\n",
        "\n",
        "# printing values with messages \n",
        "print(\"Interger:\\t\",a)\n",
        "print(\"Float:\\t\",b)\n",
        "print(\"String:\\t\",c)\n",
        "print('Bool:\\t',d)\n"
      ],
      "execution_count": null,
      "outputs": [
        {
          "output_type": "stream",
          "text": [
            "Interger:\t 12\n",
            "Float:\t 12.56\n",
            "String:\t Hello\n",
            "Bool:\t True\n"
          ],
          "name": "stdout"
        }
      ]
    },
    {
      "cell_type": "markdown",
      "metadata": {
        "id": "XDumVVci3E4T"
      },
      "source": [
        "## Printing different types of variables with messages and converting them to string using \"str()\" function\n",
        "\n"
      ]
    },
    {
      "cell_type": "code",
      "metadata": {
        "colab": {
          "base_uri": "https://localhost:8080/"
        },
        "id": "wLa4SWtx2zy-",
        "outputId": "53848c58-d92a-4c32-a908-bf496cffb79d"
      },
      "source": [
        "# variable with integer value\n",
        "a=12\n",
        "# variable with float value\n",
        "b=12.56\n",
        "# variable with string value\n",
        "c=\"Hello\"\n",
        "# variable with Boolean value\n",
        "d=True\n",
        "\n",
        "# printing values with messages \n",
        "\n",
        "print('Interger:\\t', str(a))\n",
        "print('Float:\\t', str(b))\n",
        "print('String:\\t', str(c))\n",
        "print('Boolean:\\t', str(d))"
      ],
      "execution_count": null,
      "outputs": [
        {
          "output_type": "stream",
          "text": [
            "Interger:\t 12\n",
            "Float:\t 12.56\n",
            "String:\t Hello\n",
            "Boolean:\t True\n"
          ],
          "name": "stdout"
        }
      ]
    },
    {
      "cell_type": "code",
      "metadata": {
        "id": "lKdSQMCh3Z33"
      },
      "source": [
        ""
      ],
      "execution_count": null,
      "outputs": []
    }
  ]
}