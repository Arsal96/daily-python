{
  "nbformat": 4,
  "nbformat_minor": 0,
  "metadata": {
    "colab": {
      "name": "10. test multiple variables against a value.ipynb",
      "provenance": [],
      "authorship_tag": "ABX9TyO/+kLVPsv2FRxAVUIfYTdQ",
      "include_colab_link": true
    },
    "kernelspec": {
      "name": "python3",
      "display_name": "Python 3"
    },
    "language_info": {
      "name": "python"
    }
  },
  "cells": [
    {
      "cell_type": "markdown",
      "metadata": {
        "id": "view-in-github",
        "colab_type": "text"
      },
      "source": [
        "<a href=\"https://colab.research.google.com/github/Arsal96/daily-python/blob/main/10_test_multiple_variables_against_a_value.ipynb\" target=\"_parent\"><img src=\"https://colab.research.google.com/assets/colab-badge.svg\" alt=\"Open In Colab\"/></a>"
      ]
    },
    {
      "cell_type": "code",
      "metadata": {
        "colab": {
          "base_uri": "https://localhost:8080/"
        },
        "id": "oxmEHhl0xFjb",
        "outputId": "94303182-4fc8-4acb-9760-0c85f410adfc"
      },
      "source": [
        "a = 10\n",
        "b = 20 \n",
        "c = 30\n",
        "\n",
        "# method 1\n",
        "if a == 10 or b == 10 or c == 10:\n",
        "  print(\"True\")\n",
        "else:\n",
        "  print('False')\n",
        "\n",
        "\n",
        "# method 2\n",
        "if 10 in (a,b,c):\n",
        "  print('True')\n",
        "else:\n",
        "  print('False')\n",
        "\n",
        "# method 3\n",
        "\n",
        "if 10 in {a,b,c}:\n",
        "  print('True')\n",
        "\n",
        "else:\n",
        "  print('False')\n",
        "\n"
      ],
      "execution_count": 1,
      "outputs": [
        {
          "output_type": "stream",
          "text": [
            "True\n",
            "True\n",
            "True\n"
          ],
          "name": "stdout"
        }
      ]
    }
  ]
}