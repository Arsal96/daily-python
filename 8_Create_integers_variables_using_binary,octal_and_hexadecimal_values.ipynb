{
  "nbformat": 4,
  "nbformat_minor": 0,
  "metadata": {
    "colab": {
      "name": "8. Create integers variables using binary,octal and hexadecimal values.ipynb",
      "provenance": [],
      "authorship_tag": "ABX9TyP8bF2+DdktH2g0Nh9xg6HP",
      "include_colab_link": true
    },
    "kernelspec": {
      "name": "python3",
      "display_name": "Python 3"
    },
    "language_info": {
      "name": "python"
    }
  },
  "cells": [
    {
      "cell_type": "markdown",
      "metadata": {
        "id": "view-in-github",
        "colab_type": "text"
      },
      "source": [
        "<a href=\"https://colab.research.google.com/github/Arsal96/daily-python/blob/main/8_Create_integers_variables_using_binary%2Coctal_and_hexadecimal_values.ipynb\" target=\"_parent\"><img src=\"https://colab.research.google.com/assets/colab-badge.svg\" alt=\"Open In Colab\"/></a>"
      ]
    },
    {
      "cell_type": "markdown",
      "metadata": {
        "id": "TRFLDxpIsSqh"
      },
      "source": [
        "## Binary value assignment\n",
        "To assign value in binary format to a variable, we use 0b suffix. It tells to the compiler that the value (suffixed with 0b) is a binary value and assigns it to the variable."
      ]
    },
    {
      "cell_type": "code",
      "metadata": {
        "colab": {
          "base_uri": "https://localhost:8080/"
        },
        "id": "cjlr8vjfltU8",
        "outputId": "7ae07da8-f72e-432f-f55a-6eaffc39e747"
      },
      "source": [
        "\n",
        "# creating number variable\n",
        "# and, assigning binary value\n",
        "a = 0b1010\n",
        "b = 0b00000000\n",
        "c = 0b11111111\n",
        "d = 0b11110000\n",
        "e = 0b10101010\n",
        "\n",
        "# printing types\n",
        "print(\"type of the variables...\")\n",
        "print(\"type of a: \", type(a))\n",
        "print(\"type of b: \", type(b))\n",
        "print(\"type of c: \", type(c))\n",
        "print(\"type of d: \", type(d))\n",
        "print(\"type of e: \", type(e))\n",
        "\n",
        "# printing values in decimal format\n",
        "print(\"value of the variables in decimal format...\")\n",
        "print(\"value of a: \", a)\n",
        "print(\"value of b: \", b)\n",
        "print(\"value of c: \", c)\n",
        "print(\"value of d: \", d)\n",
        "print(\"value of e: \", e)\n",
        "\n",
        "# printing values in binary format\n",
        "print(\"value of the variables in binary format...\")\n",
        "print(\"value of a: \", bin(a))\n",
        "print(\"value of b: \", bin(b))\n",
        "print(\"value of c: \", bin(c))\n",
        "print(\"value of d: \", bin(d))\n",
        "print(\"value of e: \", bin(e))\n"
      ],
      "execution_count": 1,
      "outputs": [
        {
          "output_type": "stream",
          "text": [
            "type of the variables...\n",
            "type of a:  <class 'int'>\n",
            "type of b:  <class 'int'>\n",
            "type of c:  <class 'int'>\n",
            "type of d:  <class 'int'>\n",
            "type of e:  <class 'int'>\n",
            "value of the variables in decimal format...\n",
            "value of a:  10\n",
            "value of b:  0\n",
            "value of c:  255\n",
            "value of d:  240\n",
            "value of e:  170\n",
            "value of the variables in binary format...\n",
            "value of a:  0b1010\n",
            "value of b:  0b0\n",
            "value of c:  0b11111111\n",
            "value of d:  0b11110000\n",
            "value of e:  0b10101010\n"
          ],
          "name": "stdout"
        }
      ]
    },
    {
      "cell_type": "markdown",
      "metadata": {
        "id": "dqVvQv7_svVu"
      },
      "source": [
        "## Octal value assignment\n",
        "To assign value in octal format to a variable, we use 0o suffix. It tells to the compiler that the value (suffixed with 0o) is an octal value and assigns it to the variable."
      ]
    },
    {
      "cell_type": "code",
      "metadata": {
        "colab": {
          "base_uri": "https://localhost:8080/"
        },
        "id": "zqvC5Y0zsiZN",
        "outputId": "e751476c-4bf6-4721-bc1d-b34ab07eae61"
      },
      "source": [
        "# Python code to create variable \n",
        "# by assigning octal value \n",
        "\n",
        "# creating number variable\n",
        "# and, assigning octal value\n",
        "a = 0o1234567\n",
        "b = 0o7654321\n",
        "c = 0o1745\n",
        "d = 0o100\n",
        "e = 0o123\n",
        "\n",
        "# printing types\n",
        "print(\"type of the variables...\")\n",
        "print(\"type of a: \", type(a))\n",
        "print(\"type of b: \", type(b))\n",
        "print(\"type of c: \", type(c))\n",
        "print(\"type of d: \", type(d))\n",
        "print(\"type of e: \", type(e))\n",
        "\n",
        "# printing values in decimal format\n",
        "print(\"value of the variables in decimal format...\")\n",
        "print(\"value of a: \", a)\n",
        "print(\"value of b: \", b)\n",
        "print(\"value of c: \", c)\n",
        "print(\"value of d: \", d)\n",
        "print(\"value of e: \", e)\n",
        "\n",
        "# printing values in octal format\n",
        "print(\"value of the variables in octal format...\")\n",
        "print(\"value of a: \", oct(a))\n",
        "print(\"value of b: \", oct(b))\n",
        "print(\"value of c: \", oct(c))\n",
        "print(\"value of d: \", oct(d))\n",
        "print(\"value of e: \", oct(e))\n"
      ],
      "execution_count": 2,
      "outputs": [
        {
          "output_type": "stream",
          "text": [
            "type of the variables...\n",
            "type of a:  <class 'int'>\n",
            "type of b:  <class 'int'>\n",
            "type of c:  <class 'int'>\n",
            "type of d:  <class 'int'>\n",
            "type of e:  <class 'int'>\n",
            "value of the variables in decimal format...\n",
            "value of a:  342391\n",
            "value of b:  2054353\n",
            "value of c:  997\n",
            "value of d:  64\n",
            "value of e:  83\n",
            "value of the variables in octal format...\n",
            "value of a:  0o1234567\n",
            "value of b:  0o7654321\n",
            "value of c:  0o1745\n",
            "value of d:  0o100\n",
            "value of e:  0o123\n"
          ],
          "name": "stdout"
        }
      ]
    },
    {
      "cell_type": "markdown",
      "metadata": {
        "id": "lw6rsgEbtbsS"
      },
      "source": [
        "## Hexadecimal value assignment\n",
        "To assign value in hexadecimal format to a variable, we use 0x or 0X suffix. It tells to the compiler that the value (suffixed with 0x or 0X) is a hexadecimal value and assigns it to the variable"
      ]
    },
    {
      "cell_type": "code",
      "metadata": {
        "colab": {
          "base_uri": "https://localhost:8080/"
        },
        "id": "jJ-nxHfcs77J",
        "outputId": "a829f725-4392-441b-e079-8bb92ca1730d"
      },
      "source": [
        "# Python code to create variable \n",
        "# by assigning hexadecimal value \n",
        "\n",
        "# creating number variable\n",
        "# and, assigning hexadecimal value\n",
        "a = 0x123\n",
        "b = 0X123\n",
        "c = 0xAFAF\n",
        "d = 0Xafaf\n",
        "e = 0x7890abcdef\n",
        "\n",
        "# printing types\n",
        "print(\"type of the variables...\")\n",
        "print(\"type of a: \", type(a))\n",
        "print(\"type of b: \", type(b))\n",
        "print(\"type of c: \", type(c))\n",
        "print(\"type of d: \", type(d))\n",
        "print(\"type of e: \", type(e))\n",
        "\n",
        "# printing values in decimal format\n",
        "print(\"value of the variables in decimal format...\")\n",
        "print(\"value of a: \", a)\n",
        "print(\"value of b: \", b)\n",
        "print(\"value of c: \", c)\n",
        "print(\"value of d: \", d)\n",
        "print(\"value of e: \", e)\n",
        "\n",
        "# printing values in hexadecimal format\n",
        "print(\"value of the variables in hexadecimal format...\")\n",
        "print(\"value of a: \", hex(a))\n",
        "print(\"value of b: \", hex(b))\n",
        "print(\"value of c: \", hex(c))\n",
        "print(\"value of d: \", hex(d))\n",
        "print(\"value of e: \", hex(e))\n"
      ],
      "execution_count": 3,
      "outputs": [
        {
          "output_type": "stream",
          "text": [
            "type of the variables...\n",
            "type of a:  <class 'int'>\n",
            "type of b:  <class 'int'>\n",
            "type of c:  <class 'int'>\n",
            "type of d:  <class 'int'>\n",
            "type of e:  <class 'int'>\n",
            "value of the variables in decimal format...\n",
            "value of a:  291\n",
            "value of b:  291\n",
            "value of c:  44975\n",
            "value of d:  44975\n",
            "value of e:  517823253999\n",
            "value of the variables in hexadecimal format...\n",
            "value of a:  0x123\n",
            "value of b:  0x123\n",
            "value of c:  0xafaf\n",
            "value of d:  0xafaf\n",
            "value of e:  0x7890abcdef\n"
          ],
          "name": "stdout"
        }
      ]
    },
    {
      "cell_type": "code",
      "metadata": {
        "id": "EfJWgevqtknq"
      },
      "source": [
        ""
      ],
      "execution_count": null,
      "outputs": []
    }
  ]
}