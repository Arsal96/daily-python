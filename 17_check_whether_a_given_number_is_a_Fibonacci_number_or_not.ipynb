{
  "nbformat": 4,
  "nbformat_minor": 0,
  "metadata": {
    "colab": {
      "name": "17. check whether a given number is a Fibonacci number or not.ipynb",
      "provenance": [],
      "authorship_tag": "ABX9TyNEMrAERG77gPzyDVuCqGdh",
      "include_colab_link": true
    },
    "kernelspec": {
      "name": "python3",
      "display_name": "Python 3"
    },
    "language_info": {
      "name": "python"
    }
  },
  "cells": [
    {
      "cell_type": "markdown",
      "metadata": {
        "id": "view-in-github",
        "colab_type": "text"
      },
      "source": [
        "<a href=\"https://colab.research.google.com/github/Arsal96/daily-python/blob/main/17_check_whether_a_given_number_is_a_Fibonacci_number_or_not.ipynb\" target=\"_parent\"><img src=\"https://colab.research.google.com/assets/colab-badge.svg\" alt=\"Open In Colab\"/></a>"
      ]
    },
    {
      "cell_type": "code",
      "metadata": {
        "id": "9fOqSQaFKrDN",
        "colab": {
          "base_uri": "https://localhost:8080/"
        },
        "outputId": "06843cc2-b9b4-48f6-fb7a-44110b6098fb"
      },
      "source": [
        "import math \n",
        "\n",
        "def checkPerfectSquare(n):\n",
        "  sqrt = int(math.sqrt(n))\n",
        "  if pow(sqrt,2)==n:\n",
        "    return True\n",
        "  else:\n",
        "    return False\n",
        "\n",
        "\n",
        "# function to check  Fibonacci number\n",
        "\n",
        "def isFibonacciNumber(n):\n",
        "  res1 = 5*n*n+4\n",
        "  res2 = 5*n*n-4\n",
        "\n",
        "  if checkPerfectSquare(res1) or checkPerfectSquare(res2):\n",
        "    return True\n",
        "\n",
        "  return False\n",
        "\n",
        "n = int(input('Enter an integer Number: '))\n",
        "\n",
        "if(isFibonacciNumber(n)):\n",
        "  print('Yes', n, 'is Fibonacci Number')\n",
        "\n",
        "else:\n",
        "  print('NO', n, 'is no Fibonacci number')"
      ],
      "execution_count": 1,
      "outputs": [
        {
          "output_type": "stream",
          "text": [
            "Enter an integer Number: 13\n",
            "Yes 13 is Fibonacci Number\n"
          ],
          "name": "stdout"
        }
      ]
    },
    {
      "cell_type": "code",
      "metadata": {
        "id": "5fAzznacKLbc"
      },
      "source": [
        ""
      ],
      "execution_count": null,
      "outputs": []
    }
  ]
}