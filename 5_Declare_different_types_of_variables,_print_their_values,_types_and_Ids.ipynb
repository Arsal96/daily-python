{
  "nbformat": 4,
  "nbformat_minor": 0,
  "metadata": {
    "colab": {
      "name": "5. Declare different types of variables, print their values, types and Ids.ipynb",
      "provenance": [],
      "authorship_tag": "ABX9TyPhHZf6oSPB5odaUk6Yntpj",
      "include_colab_link": true
    },
    "kernelspec": {
      "display_name": "Python 3",
      "name": "python3"
    },
    "language_info": {
      "name": "python"
    }
  },
  "cells": [
    {
      "cell_type": "markdown",
      "metadata": {
        "id": "view-in-github",
        "colab_type": "text"
      },
      "source": [
        "<a href=\"https://colab.research.google.com/github/Arsal96/daily-python/blob/main/5_Declare_different_types_of_variables%2C_print_their_values%2C_types_and_Ids.ipynb\" target=\"_parent\"><img src=\"https://colab.research.google.com/assets/colab-badge.svg\" alt=\"Open In Colab\"/></a>"
      ]
    },
    {
      "cell_type": "markdown",
      "metadata": {
        "id": "evU45YdgHdF8"
      },
      "source": [
        "There are two inbuilt functions are using in the program:\n",
        "\n",
        "* type() - its returns the data type of the variable/object.\n",
        "\n",
        "* id() - it returns the unique identification number (id) of created object/variable."
      ]
    },
    {
      "cell_type": "code",
      "metadata": {
        "colab": {
          "base_uri": "https://localhost:8080/"
        },
        "id": "JlvmjFAl3khN",
        "outputId": "1ae204b3-cfa3-4395-a807-88d37c23c269"
      },
      "source": [
        "print('Numbers')\n",
        "print('---------------------------------')\n",
        "a = 100\n",
        "print(type(a), id(a), a)\n",
        "a = 20.5\n",
        "print(type(a), id(a), a)\n",
        "a = 2+5j\n",
        "print(type(a),id(a),a)"
      ],
      "execution_count": null,
      "outputs": [
        {
          "output_type": "stream",
          "text": [
            "Numbers\n",
            "---------------------------------\n",
            "<class 'int'> 93903761061472 100\n",
            "<class 'float'> 140250245099312 20.5\n",
            "<class 'complex'> 140250245099376 (2+5j)\n"
          ],
          "name": "stdout"
        }
      ]
    },
    {
      "cell_type": "code",
      "metadata": {
        "colab": {
          "base_uri": "https://localhost:8080/"
        },
        "id": "n8HFseDrIc6b",
        "outputId": "7fe141f0-c5a2-4645-c1eb-8a1af6a1fa34"
      },
      "source": [
        "print('\\nText')\n",
        "print('---------------------------------')\n",
        "a = 'h'\n",
        "print(type(a), id(a), a)\n",
        "a = \"h\"\n",
        "print(type(a), id(a), a)\n",
        "a = 'Hello'\n",
        "print(type(a), id(a), a)\n",
        "a = \"Hello\"\n",
        "print(type(a), id(a), a)"
      ],
      "execution_count": null,
      "outputs": [
        {
          "output_type": "stream",
          "text": [
            "\n",
            "Text\n",
            "---------------------------------\n",
            "<class 'str'> 140250842419632 h\n",
            "<class 'str'> 140250842419632 h\n",
            "<class 'str'> 140250245077616 Hello\n",
            "<class 'str'> 140250245077616 Hello\n"
          ],
          "name": "stdout"
        }
      ]
    },
    {
      "cell_type": "code",
      "metadata": {
        "colab": {
          "base_uri": "https://localhost:8080/"
        },
        "id": "3lEoVlDAJAOg",
        "outputId": "d3631046-cee3-4e57-d093-d6229fd2e691"
      },
      "source": [
        "print('\\nBoolean')\n",
        "print(\"--------------------------------\")\n",
        "a = True\n",
        "print(type(a), id(a), a)"
      ],
      "execution_count": null,
      "outputs": [
        {
          "output_type": "stream",
          "text": [
            "\n",
            "Boolean\n",
            "--------------------------------\n",
            "<class 'bool'> 93903760384256 True\n"
          ],
          "name": "stdout"
        }
      ]
    },
    {
      "cell_type": "code",
      "metadata": {
        "colab": {
          "base_uri": "https://localhost:8080/"
        },
        "id": "5xMGeSOIIcqC",
        "outputId": "c201ef56-67de-423b-8339-066d8a6d8587"
      },
      "source": [
        "print(\"\\nFunction\")\n",
        "print('-------------------------------')\n",
        "def fun():\n",
        "  return 'This is Function'\n",
        "a = fun()\n",
        "print(type(a), id(a), a)"
      ],
      "execution_count": null,
      "outputs": [
        {
          "output_type": "stream",
          "text": [
            "\n",
            "Function\n",
            "-------------------------------\n",
            "<class 'str'> 140250208656240 This is Function\n"
          ],
          "name": "stdout"
        }
      ]
    },
    {
      "cell_type": "code",
      "metadata": {
        "colab": {
          "background_save": true,
          "base_uri": "https://localhost:8080/",
          "height": 274
        },
        "id": "sySJs6wnJ_DW",
        "outputId": "6d888ea1-e110-4619-93ba-18c9cb319028"
      },
      "source": [
        "print('\\nObject')\n",
        "print('-------------------------------')\n",
        "\n",
        "class myClass:\n",
        "  def hi(self):\n",
        "    return 'Hi'\n",
        "\n",
        "a = myClass()\n",
        "\n",
        "print(type(a), id(a), a.hi())\n",
        "  "
      ],
      "execution_count": null,
      "outputs": [
        {
          "output_type": "stream",
          "text": [
            "\n",
            "Object\n",
            "-------------------------------\n",
            "<class 'type'> 93903798333664 Hi\n"
          ],
          "name": "stdout"
        }
      ]
    },
    {
      "cell_type": "code",
      "metadata": {
        "id": "a0p7oqIsKtcD"
      },
      "source": [
        "\n"
      ],
      "execution_count": null,
      "outputs": []
    }
  ]
}