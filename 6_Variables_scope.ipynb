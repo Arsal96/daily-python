{
  "nbformat": 4,
  "nbformat_minor": 0,
  "metadata": {
    "colab": {
      "name": "6. Variables scope.ipynb",
      "provenance": [],
      "authorship_tag": "ABX9TyPfnZqhxh+DanjMkVq3Y89Q",
      "include_colab_link": true
    },
    "kernelspec": {
      "name": "python3",
      "display_name": "Python 3"
    },
    "language_info": {
      "name": "python"
    }
  },
  "cells": [
    {
      "cell_type": "markdown",
      "metadata": {
        "id": "view-in-github",
        "colab_type": "text"
      },
      "source": [
        "<a href=\"https://colab.research.google.com/github/Arsal96/daily-python/blob/main/6_Variables_scope.ipynb\" target=\"_parent\"><img src=\"https://colab.research.google.com/assets/colab-badge.svg\" alt=\"Open In Colab\"/></a>"
      ]
    },
    {
      "cell_type": "markdown",
      "metadata": {
        "id": "r8eDu87uhT5O"
      },
      "source": [
        "##### A global variable can be accessed anywhere in the program, it's scope is global to the program, while a local variable can be accessed within the same block in which the variable is declared if we try to access a local variable outside of the scope – it will give an error."
      ]
    },
    {
      "cell_type": "code",
      "metadata": {
        "colab": {
          "base_uri": "https://localhost:8080/"
        },
        "id": "PAodpgFghEOj",
        "outputId": "244dab6d-4f98-42de-9585-77cd36d0ae85"
      },
      "source": [
        "a = 100\n",
        "\n",
        "def myFunc():\n",
        "  b = 200\n",
        "\n",
        "  print('a:', a, 'b:', b)\n",
        "\n",
        "# main func\n",
        "\n",
        "if __name__=='__main__':\n",
        "  c = 300\n",
        "  print('a:', a)  # global\n",
        "  #print('b:', b)\n",
        "  print('c:',c) # local to main\n",
        "  myFunc()\n",
        "\n",
        "  a = a+10 # global\n",
        "  print('a:',a)"
      ],
      "execution_count": 3,
      "outputs": [
        {
          "output_type": "stream",
          "text": [
            "a: 100\n",
            "c: 300\n",
            "a: 100 b: 200\n",
            "a: 110\n"
          ],
          "name": "stdout"
        }
      ]
    },
    {
      "cell_type": "code",
      "metadata": {
        "id": "7EhsWd60ikdV"
      },
      "source": [
        ""
      ],
      "execution_count": null,
      "outputs": []
    }
  ]
}