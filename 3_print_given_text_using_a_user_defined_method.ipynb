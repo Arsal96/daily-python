{
  "nbformat": 4,
  "nbformat_minor": 0,
  "metadata": {
    "colab": {
      "name": "3. print given text using a user-defined method.ipynb",
      "provenance": [],
      "authorship_tag": "ABX9TyNdH+PBFosEx2XwE2h8PBO9",
      "include_colab_link": true
    },
    "kernelspec": {
      "name": "python3",
      "display_name": "Python 3"
    },
    "language_info": {
      "name": "python"
    }
  },
  "cells": [
    {
      "cell_type": "markdown",
      "metadata": {
        "id": "view-in-github",
        "colab_type": "text"
      },
      "source": [
        "<a href=\"https://colab.research.google.com/github/Arsal96/daily-python/blob/main/3_print_given_text_using_a_user_defined_method.ipynb\" target=\"_parent\"><img src=\"https://colab.research.google.com/assets/colab-badge.svg\" alt=\"Open In Colab\"/></a>"
      ]
    },
    {
      "cell_type": "code",
      "metadata": {
        "id": "VnSTIbDn0m0K"
      },
      "source": [
        "# Python code to print text/string using \n",
        "# user-defined method\n",
        "\n",
        "# function defintion of \"putMe()\"\n",
        "# it will accepts a string and print it on the screen\n",
        "\n",
        "def putMe(text):\n",
        "  print(text)\n",
        "\n",
        "if __name__ =='__main__':\n",
        "  putMe('Hello')\n",
        "  putMe('World')\n",
        "  putMe('This is my message to you.')\n",
        "  put\n"
      ],
      "execution_count": null,
      "outputs": []
    }
  ]
}