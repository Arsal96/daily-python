{
  "nbformat": 4,
  "nbformat_minor": 0,
  "metadata": {
    "colab": {
      "name": "7. Number Variables and their types.ipynb",
      "provenance": [],
      "authorship_tag": "ABX9TyPR8k50cdj9BWh7uPNXEEQo",
      "include_colab_link": true
    },
    "kernelspec": {
      "name": "python3",
      "display_name": "Python 3"
    },
    "language_info": {
      "name": "python"
    }
  },
  "cells": [
    {
      "cell_type": "markdown",
      "metadata": {
        "id": "view-in-github",
        "colab_type": "text"
      },
      "source": [
        "<a href=\"https://colab.research.google.com/github/Arsal96/daily-python/blob/main/7_Number_Variables_and_their_types.ipynb\" target=\"_parent\"><img src=\"https://colab.research.google.com/assets/colab-badge.svg\" alt=\"Open In Colab\"/></a>"
      ]
    },
    {
      "cell_type": "code",
      "metadata": {
        "colab": {
          "base_uri": "https://localhost:8080/"
        },
        "id": "lONqzDfrjz_A",
        "outputId": "9df0c701-2595-4921-abb6-0d001c58fb99"
      },
      "source": [
        "a = 100\n",
        "b = 200.55\n",
        "c = 5+2j\n",
        "\n",
        "print('type(a):', type(a))\n",
        "print('type(b):', type(b))\n",
        "print('type(c):', type(c))\n",
        "\n",
        "# print values\n",
        "\n",
        "print('a:', a)\n",
        "print('b:', b)\n",
        "print('c:', c)\n"
      ],
      "execution_count": 1,
      "outputs": [
        {
          "output_type": "stream",
          "text": [
            "type(a): <class 'int'>\n",
            "type(b): <class 'float'>\n",
            "type(c): <class 'complex'>\n",
            "a: 100\n",
            "b: 200.55\n",
            "c: (5+2j)\n"
          ],
          "name": "stdout"
        }
      ]
    },
    {
      "cell_type": "markdown",
      "metadata": {
        "id": "A1J0Vf2wk2T3"
      },
      "source": [
        "## Assigning integer number in binary, decimal, octal, and hexadecimal format\n"
      ]
    },
    {
      "cell_type": "code",
      "metadata": {
        "colab": {
          "base_uri": "https://localhost:8080/"
        },
        "id": "Rn-4veBrkWdW",
        "outputId": "85271078-fd71-44cd-d90f-e13d0c3b1a48"
      },
      "source": [
        "a = 123\n",
        "b = 0o123\n",
        "c = 0x123AF\n",
        "d = 0b011010\n",
        "\n",
        "print('type(a):', type(a)) #integer (decimal format)\n",
        "print('type(b):', type(b)) # integer (octal format)\n",
        "print('type(c):', type(c)) # iteger (hexadecimal format)\n",
        "print('type(d):', type(d)) # integer (binary format)\n",
        "\n",
        "# print values\n",
        "\n",
        "print('a:', a)\n",
        "print('b:', b)\n",
        "print('c:', c)\n",
        "print('d:',d)"
      ],
      "execution_count": 2,
      "outputs": [
        {
          "output_type": "stream",
          "text": [
            "type(a): <class 'int'>\n",
            "type(b): <class 'int'>\n",
            "type(c): <class 'int'>\n",
            "type(d): <class 'int'>\n",
            "a: 123\n",
            "b: 83\n",
            "c: 74671\n",
            "d: 26\n"
          ],
          "name": "stdout"
        }
      ]
    },
    {
      "cell_type": "code",
      "metadata": {
        "id": "6lsWSaeZlP2s"
      },
      "source": [
        ""
      ],
      "execution_count": 2,
      "outputs": []
    }
  ]
}