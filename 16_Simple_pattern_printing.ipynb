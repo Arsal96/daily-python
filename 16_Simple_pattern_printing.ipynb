{
  "nbformat": 4,
  "nbformat_minor": 0,
  "metadata": {
    "colab": {
      "name": "16. Simple pattern printing.ipynb",
      "provenance": [],
      "authorship_tag": "ABX9TyNGfrir5uJD3sk/lzDHn/3b",
      "include_colab_link": true
    },
    "kernelspec": {
      "name": "python3",
      "display_name": "Python 3"
    },
    "language_info": {
      "name": "python"
    }
  },
  "cells": [
    {
      "cell_type": "markdown",
      "metadata": {
        "id": "view-in-github",
        "colab_type": "text"
      },
      "source": [
        "<a href=\"https://colab.research.google.com/github/Arsal96/daily-python/blob/main/16_Simple_pattern_printing.ipynb\" target=\"_parent\"><img src=\"https://colab.research.google.com/assets/colab-badge.svg\" alt=\"Open In Colab\"/></a>"
      ]
    },
    {
      "cell_type": "markdown",
      "metadata": {
        "id": "kSpsmyuzG8uG"
      },
      "source": [
        ""
      ]
    },
    {
      "cell_type": "code",
      "metadata": {
        "colab": {
          "base_uri": "https://localhost:8080/"
        },
        "id": "crA71dzDG0CQ",
        "outputId": "5d9df2a5-ad48-49cb-97e3-b3a20d05ceb5"
      },
      "source": [
        "for i in range(1,6):\n",
        "  print('*'*i)"
      ],
      "execution_count": 3,
      "outputs": [
        {
          "output_type": "stream",
          "text": [
            "*\n",
            "**\n",
            "***\n",
            "****\n",
            "*****\n"
          ],
          "name": "stdout"
        }
      ]
    },
    {
      "cell_type": "code",
      "metadata": {
        "colab": {
          "base_uri": "https://localhost:8080/"
        },
        "id": "SpBONfVoHiF5",
        "outputId": "1cf11229-09f2-4db8-bdad-242d3fb05079"
      },
      "source": [
        "for row in range(0,5):\n",
        "  for col in range(0, row+1):\n",
        "    print(col, end=' ') \n",
        "\n",
        "  print()"
      ],
      "execution_count": 6,
      "outputs": [
        {
          "output_type": "stream",
          "text": [
            "0 \n",
            "0 1 \n",
            "0 1 2 \n",
            "0 1 2 3 \n",
            "0 1 2 3 4 \n"
          ],
          "name": "stdout"
        }
      ]
    },
    {
      "cell_type": "code",
      "metadata": {
        "colab": {
          "base_uri": "https://localhost:8080/"
        },
        "id": "1bocLh8VIP-J",
        "outputId": "b7223d60-e98b-48d2-f671-3b8f783a0dcd"
      },
      "source": [
        "temp = 1\n",
        "for row in range(1,5):\n",
        "  \n",
        "  for col in range(1,row+1):\n",
        "    print(temp, end=' ')\n",
        "    temp = temp +1\n",
        "\n",
        "  print()"
      ],
      "execution_count": 12,
      "outputs": [
        {
          "output_type": "stream",
          "text": [
            "1 \n",
            "2 3 \n",
            "4 5 6 \n",
            "7 8 9 10 \n"
          ],
          "name": "stdout"
        }
      ]
    },
    {
      "cell_type": "code",
      "metadata": {
        "colab": {
          "base_uri": "https://localhost:8080/"
        },
        "id": "Uz-ECoesJXb8",
        "outputId": "acf7048c-2294-4b1c-c127-108dbde4701f"
      },
      "source": [
        "ch = 65\n",
        "for row in range(0,5):\n",
        "  \n",
        "  for col in range(0, row+1):\n",
        "    print(chr(ch), end=' ')\n",
        "    ch  = ch+1\n",
        "\n",
        "  print()"
      ],
      "execution_count": 17,
      "outputs": [
        {
          "output_type": "stream",
          "text": [
            "A \n",
            "B C \n",
            "D E F \n",
            "G H I J \n",
            "K L M N O \n"
          ],
          "name": "stdout"
        }
      ]
    }
  ]
}