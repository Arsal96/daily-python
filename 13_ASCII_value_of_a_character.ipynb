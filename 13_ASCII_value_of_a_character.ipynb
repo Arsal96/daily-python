{
  "nbformat": 4,
  "nbformat_minor": 0,
  "metadata": {
    "colab": {
      "name": "13. ASCII value of a character.ipynb",
      "provenance": [],
      "authorship_tag": "ABX9TyOfDV8eUL29CwJ4g/X/ge3r",
      "include_colab_link": true
    },
    "kernelspec": {
      "name": "python3",
      "display_name": "Python 3"
    },
    "language_info": {
      "name": "python"
    }
  },
  "cells": [
    {
      "cell_type": "markdown",
      "metadata": {
        "id": "view-in-github",
        "colab_type": "text"
      },
      "source": [
        "<a href=\"https://colab.research.google.com/github/Arsal96/daily-python/blob/main/13_ASCII_value_of_a_character.ipynb\" target=\"_parent\"><img src=\"https://colab.research.google.com/assets/colab-badge.svg\" alt=\"Open In Colab\"/></a>"
      ]
    },
    {
      "cell_type": "markdown",
      "metadata": {
        "id": "GDLo9olu96hg"
      },
      "source": [
        "In python, to get an ASCII code of a character, we use ord() function. ord() accepts a character and returns the ASCII value of it.\n",
        "\n"
      ]
    },
    {
      "cell_type": "code",
      "metadata": {
        "colab": {
          "base_uri": "https://localhost:8080/"
        },
        "id": "ocJiBi-D9yqa",
        "outputId": "0a3e2394-4436-4e0e-e53f-d5111c10abb2"
      },
      "source": [
        "char_var = 'A'\n",
        "\n",
        "print(\"ASCII value of \" + char_var + \" is = \", ord(char_var))\n",
        "\n",
        "char_var = 'a'\n",
        "print(\"ASCII value of \" + char_var + \" is = \", ord(char_var))\n",
        "\n",
        "char_var = '9'\n",
        "print(\"ASCII value of \" + char_var + \" is = \", ord(char_var))\n"
      ],
      "execution_count": null,
      "outputs": [
        {
          "output_type": "stream",
          "text": [
            "ASCII value of A is =  65\n",
            "ASCII value of a is =  97\n",
            "ASCII value of 9 is =  57\n"
          ],
          "name": "stdout"
        }
      ]
    },
    {
      "cell_type": "code",
      "metadata": {
        "id": "1i92FvAE-I9p"
      },
      "source": [
        ""
      ],
      "execution_count": null,
      "outputs": []
    }
  ]
}