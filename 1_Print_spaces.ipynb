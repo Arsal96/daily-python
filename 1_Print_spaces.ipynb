{
  "nbformat": 4,
  "nbformat_minor": 0,
  "metadata": {
    "colab": {
      "name": "1. Print spaces.ipynb",
      "provenance": [],
      "authorship_tag": "ABX9TyOQtb1rHwWHdCBZ6lDItAJO",
      "include_colab_link": true
    },
    "kernelspec": {
      "name": "python3",
      "display_name": "Python 3"
    },
    "language_info": {
      "name": "python"
    }
  },
  "cells": [
    {
      "cell_type": "markdown",
      "metadata": {
        "id": "view-in-github",
        "colab_type": "text"
      },
      "source": [
        "<a href=\"https://colab.research.google.com/github/Arsal96/daily-python/blob/main/1_Print_spaces.ipynb\" target=\"_parent\"><img src=\"https://colab.research.google.com/assets/colab-badge.svg\" alt=\"Open In Colab\"/></a>"
      ]
    },
    {
      "cell_type": "markdown",
      "metadata": {
        "id": "SjhZ4cqQ87kv"
      },
      "source": [
        "## Example 1: A simple way to print spaces"
      ]
    },
    {
      "cell_type": "code",
      "metadata": {
        "colab": {
          "base_uri": "https://localhost:8080/"
        },
        "id": "vtbhrwLT8pVd",
        "outputId": "98c8004f-01bf-4f26-febc-02424e3a55dc"
      },
      "source": [
        "print(' ')\n",
        "print(\"\")\n",
        "print(\"Hello World\")\n",
        "print(\"Hello  World\")"
      ],
      "execution_count": null,
      "outputs": [
        {
          "output_type": "stream",
          "text": [
            " \n",
            "\n",
            "Hello World\n",
            "Hello  World\n"
          ],
          "name": "stdout"
        }
      ]
    },
    {
      "cell_type": "markdown",
      "metadata": {
        "id": "ViSEUWAi9UxD"
      },
      "source": [
        "##Example 2: Printing spaces between two values while printing in a single print statement\n",
        "\n",
        "### When we print multiple values separated by the commands using the print statement – Python default print a between them."
      ]
    },
    {
      "cell_type": "code",
      "metadata": {
        "colab": {
          "base_uri": "https://localhost:8080/"
        },
        "id": "aAv2aYiK9KhN",
        "outputId": "4a3a171a-8e2f-4887-ecb2-72093d436c71"
      },
      "source": [
        "x = 10\n",
        "y = 20\n",
        "\n",
        "print('x:',x)\n",
        "print(\"y:\",y)"
      ],
      "execution_count": null,
      "outputs": [
        {
          "output_type": "stream",
          "text": [
            "x: 10\n",
            "y: 20\n"
          ],
          "name": "stdout"
        }
      ]
    },
    {
      "cell_type": "markdown",
      "metadata": {
        "id": "Be4Ft-gz-F5F"
      },
      "source": [
        "##Example 3: Give multiple spaces between two values\n",
        "\n",
        "\n",
        "###To give multiple spaces between two values, we can assign space in a variable, and using the variable by multiplying the value with the required spaces. For example, there is a variable space assigned with space and we need to print 5 spaces - we can use space*5 and it will print the 5 spaces"
      ]
    },
    {
      "cell_type": "code",
      "metadata": {
        "colab": {
          "base_uri": "https://localhost:8080/"
        },
        "id": "dz_0cDqD9tXp",
        "outputId": "a88d5331-28a2-4936-8707-596f513f3a88"
      },
      "source": [
        "space = ' '\n",
        "print('Hello',space,'World')\n",
        "print('Hello',space*5,'World') # 7 space (comma takes 1 space)\n",
        "\n",
        "space ='#'\n",
        "print('Hello',space,'World')\n",
        "print('Hello',space*5,'World')\n",
        "\n",
        "x = 10\n",
        "y = 20\n",
        "space = ' '\n",
        "print('x:',space,x)\n",
        "print('y',space,y)"
      ],
      "execution_count": null,
      "outputs": [
        {
          "output_type": "stream",
          "text": [
            "Hello   World\n",
            "Hello       World\n",
            "Hello # World\n",
            "Hello ##### World\n",
            "x:   10\n",
            "y   20\n"
          ],
          "name": "stdout"
        }
      ]
    },
    {
      "cell_type": "code",
      "metadata": {
        "id": "JSCB95mKANOD"
      },
      "source": [
        ""
      ],
      "execution_count": null,
      "outputs": []
    }
  ]
}