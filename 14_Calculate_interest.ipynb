{
  "nbformat": 4,
  "nbformat_minor": 0,
  "metadata": {
    "colab": {
      "name": "14. Calculate interest.ipynb",
      "provenance": [],
      "collapsed_sections": [],
      "authorship_tag": "ABX9TyNXRBF+b+ZmMp5Q+xWBuS0k",
      "include_colab_link": true
    },
    "kernelspec": {
      "name": "python3",
      "display_name": "Python 3"
    },
    "language_info": {
      "name": "python"
    }
  },
  "cells": [
    {
      "cell_type": "markdown",
      "metadata": {
        "id": "view-in-github",
        "colab_type": "text"
      },
      "source": [
        "<a href=\"https://colab.research.google.com/github/Arsal96/daily-python/blob/main/14_Calculate_interest.ipynb\" target=\"_parent\"><img src=\"https://colab.research.google.com/assets/colab-badge.svg\" alt=\"Open In Colab\"/></a>"
      ]
    },
    {
      "cell_type": "markdown",
      "metadata": {
        "id": "ko68wkpx_huA"
      },
      "source": [
        "To calculate simple interest, we use the following formula,\n",
        "\n",
        "    (P * R * T) / 100\n",
        "\n",
        "\n",
        "Where,\n",
        "\n",
        "* P – Principle amount\n",
        "* R – Rate of the interest, and\n",
        "* T – Time in the years"
      ]
    },
    {
      "cell_type": "code",
      "metadata": {
        "colab": {
          "base_uri": "https://localhost:8080/"
        },
        "id": "JmzaFgbe-eY_",
        "outputId": "24aa013a-c324-4c1a-f435-4c7765647f68"
      },
      "source": [
        "p ,r, t = input('enter principle amount, rate of interest and time seperate by space').split()\n",
        "\n",
        "print('Interest rate:', (float(p)*float(r)*float(t))/100)\n"
      ],
      "execution_count": null,
      "outputs": [
        {
          "output_type": "stream",
          "text": [
            "enter principle amount, rate of interest and time seperate by space10000 3.5 1\n",
            "Interest rate: 350.0\n"
          ],
          "name": "stdout"
        }
      ]
    },
    {
      "cell_type": "markdown",
      "metadata": {
        "id": "MxWiyQlv7eQJ"
      },
      "source": [
        "Calculate compound interest\n",
        "To calculate compound interest, we use the following formula,\n",
        "\n",
        "    P(1 + R / 100)T\n",
        "Where,\n",
        "\n",
        "* P – Principle amount\n",
        "* R – Rate of the interest, and\n",
        "* T – Time in the years"
      ]
    },
    {
      "cell_type": "code",
      "metadata": {
        "id": "2VUrIJY3ArUv",
        "colab": {
          "base_uri": "https://localhost:8080/"
        },
        "outputId": "a39a4f62-c5e3-411d-c738-e4a56b0a3de5"
      },
      "source": [
        "p = float(input('Enter principle amount: '))\n",
        "r = float(input('Enter rate of interest: '))\n",
        "t = float(input('Enter time: '))\n",
        "\n",
        "print('Compound interest is: ', p *pow((1+r/100),t))"
      ],
      "execution_count": 4,
      "outputs": [
        {
          "output_type": "stream",
          "text": [
            "Enter principle amoun:10000\n",
            "Enter rate of interest:3.5\n",
            "Enter time:1\n",
            "Compound interest is 10350.0\n"
          ],
          "name": "stdout"
        }
      ]
    },
    {
      "cell_type": "code",
      "metadata": {
        "id": "kUzp1D3h8NK3"
      },
      "source": [
        ""
      ],
      "execution_count": null,
      "outputs": []
    }
  ]
}