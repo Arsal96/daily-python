{
  "nbformat": 4,
  "nbformat_minor": 0,
  "metadata": {
    "accelerator": "GPU",
    "colab": {
      "name": "19. extract and print digits in reverse order of a number.ipynb",
      "provenance": [],
      "authorship_tag": "ABX9TyOs6jdLJauM4L2UHhIZSqiG",
      "include_colab_link": true
    },
    "kernelspec": {
      "display_name": "Python 3",
      "name": "python3"
    },
    "language_info": {
      "name": "python"
    }
  },
  "cells": [
    {
      "cell_type": "markdown",
      "metadata": {
        "id": "view-in-github",
        "colab_type": "text"
      },
      "source": [
        "<a href=\"https://colab.research.google.com/github/Arsal96/daily-python/blob/main/19_extract_and_print_digits_in_reverse_order_of_a_number.ipynb\" target=\"_parent\"><img src=\"https://colab.research.google.com/assets/colab-badge.svg\" alt=\"Open In Colab\"/></a>"
      ]
    },
    {
      "cell_type": "code",
      "metadata": {
        "colab": {
          "base_uri": "https://localhost:8080/"
        },
        "id": "o_a9VXCG1wqF",
        "outputId": "06298ecb-2a5f-499b-d6bd-e3c9e34544de"
      },
      "source": [
        "\n",
        "def reverseNum(num) :\n",
        "    \n",
        "    rev_num = 0\n",
        "\n",
        "    # iterate the loop till num is not equal to zero\n",
        "    while(num) :\n",
        "        rem = num % 10\n",
        "        rev_num = rev_num* 10 + rem\n",
        "        num //= 10\n",
        "\n",
        "    return rev_num\n",
        "\n",
        "\n",
        "\n",
        "if __name__ == \"__main__\" :\n",
        "\n",
        "    num = int(input('Enter a number: '))\n",
        "    \n",
        "    print('Reverse number is: ', reverseNum(num))\n"
      ],
      "execution_count": 12,
      "outputs": [
        {
          "output_type": "stream",
          "text": [
            "Enter a number: 123\n",
            "Reverse number is:  321\n"
          ],
          "name": "stdout"
        }
      ]
    },
    {
      "cell_type": "code",
      "metadata": {
        "id": "AdynRuAq8ERp"
      },
      "source": [
        ""
      ],
      "execution_count": null,
      "outputs": []
    }
  ]
}