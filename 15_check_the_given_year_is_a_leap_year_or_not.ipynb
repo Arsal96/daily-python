{
  "nbformat": 4,
  "nbformat_minor": 0,
  "metadata": {
    "colab": {
      "name": "15. check the given year is a leap year or not.ipynb",
      "provenance": [],
      "authorship_tag": "ABX9TyNzz7kX1NCEpP3fZs7GUvqS",
      "include_colab_link": true
    },
    "kernelspec": {
      "name": "python3",
      "display_name": "Python 3"
    },
    "language_info": {
      "name": "python"
    }
  },
  "cells": [
    {
      "cell_type": "markdown",
      "metadata": {
        "id": "view-in-github",
        "colab_type": "text"
      },
      "source": [
        "<a href=\"https://colab.research.google.com/github/Arsal96/daily-python/blob/main/15_check_the_given_year_is_a_leap_year_or_not.ipynb\" target=\"_parent\"><img src=\"https://colab.research.google.com/assets/colab-badge.svg\" alt=\"Open In Colab\"/></a>"
      ]
    },
    {
      "cell_type": "markdown",
      "metadata": {
        "id": "PaSqsnwkEaw5"
      },
      "source": [
        "implementation using python calendar module"
      ]
    },
    {
      "cell_type": "code",
      "metadata": {
        "colab": {
          "base_uri": "https://localhost:8080/"
        },
        "id": "ORZoD4It9BzY",
        "outputId": "7478fdd0-29b9-46e7-afa4-3d1345585d2a"
      },
      "source": [
        "import calendar\n",
        "\n",
        "year = int(input('Enter year: '))\n",
        "print(f'{year} is leap year ' if  calendar.isleap(year) else f'{year} is not leap year')\n"
      ],
      "execution_count": 2,
      "outputs": [
        {
          "output_type": "stream",
          "text": [
            "Enter year: 2021\n",
            "2021 is not leap year\n"
          ],
          "name": "stdout"
        }
      ]
    },
    {
      "cell_type": "markdown",
      "metadata": {
        "id": "lJzeGy80D1aC"
      },
      "source": [
        "implementation from scratch "
      ]
    },
    {
      "cell_type": "code",
      "metadata": {
        "colab": {
          "base_uri": "https://localhost:8080/"
        },
        "id": "SLl1mZlgDFjI",
        "outputId": "ddb20fe4-baa2-4ef0-d537-dc73e3f0a5e4"
      },
      "source": [
        "year = int(input('Enter year: '))\n",
        "\n",
        "if year%4==0 and year%400==0 and year%100!=0:\n",
        "  print(f'{year} is leap year')\n",
        "\n",
        "else:\n",
        "  print(f'{year} is not leap year')"
      ],
      "execution_count": 3,
      "outputs": [
        {
          "output_type": "stream",
          "text": [
            "Enter year: 2021\n",
            "2021 is not leap year\n"
          ],
          "name": "stdout"
        }
      ]
    },
    {
      "cell_type": "code",
      "metadata": {
        "id": "ycEnOdAaGYpE"
      },
      "source": [
        ""
      ],
      "execution_count": null,
      "outputs": []
    }
  ]
}