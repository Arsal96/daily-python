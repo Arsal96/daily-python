{
  "nbformat": 4,
  "nbformat_minor": 0,
  "metadata": {
    "colab": {
      "name": "12. Arithmetic Operators.ipynb",
      "provenance": [],
      "authorship_tag": "ABX9TyN+MPyv8gQHh6zCHXfnteeu",
      "include_colab_link": true
    },
    "kernelspec": {
      "name": "python3",
      "display_name": "Python 3"
    },
    "language_info": {
      "name": "python"
    }
  },
  "cells": [
    {
      "cell_type": "markdown",
      "metadata": {
        "id": "view-in-github",
        "colab_type": "text"
      },
      "source": [
        "<a href=\"https://colab.research.google.com/github/Arsal96/daily-python/blob/main/12_Arithmetic_Operators.ipynb\" target=\"_parent\"><img src=\"https://colab.research.google.com/assets/colab-badge.svg\" alt=\"Open In Colab\"/></a>"
      ]
    },
    {
      "cell_type": "code",
      "metadata": {
        "id": "wMOouGYA0O0P",
        "colab": {
          "base_uri": "https://localhost:8080/"
        },
        "outputId": "0d6da0fc-2c6b-434c-8522-7d6c580146ef"
      },
      "source": [
        "a = 10\n",
        "b = 20\n",
        "print(f'a = {a} b = {b}')\n",
        "print('a+b:', a+b) # addition\n",
        "print('a-b:',a-b) # subtraction\n",
        "print('a*b:', a*b) # multiplication\n",
        "print('a/b:', a/b) # division\n",
        "print('a//b:', a//b) # floor division\n",
        "print('a**b:', a**b) # exponent\n",
        "print('a%b:', a%b) # modulus operator "
      ],
      "execution_count": null,
      "outputs": [
        {
          "output_type": "stream",
          "text": [
            "a = 10 b = 20\n",
            "a+b: 30\n",
            "a-b: -10\n",
            "a*b: 200\n",
            "a/b: 0.5\n",
            "a//b: 0\n",
            "a**b: 100000000000000000000\n",
            "a%b: 10\n"
          ],
          "name": "stdout"
        }
      ]
    }
  ]
}